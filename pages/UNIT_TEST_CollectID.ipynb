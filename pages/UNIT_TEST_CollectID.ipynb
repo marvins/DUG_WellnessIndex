{
 "cells": [
  {
   "cell_type": "markdown",
   "id": "42c1f23e-86f1-43b3-9ce0-752464bca7b8",
   "metadata": {},
   "source": [
    "# CollectID API Unit Test\n"
   ]
  },
  {
   "cell_type": "code",
   "execution_count": 1,
   "id": "adbc3e15-4940-4ba5-a21d-ee05e1a5f864",
   "metadata": {},
   "outputs": [],
   "source": [
    "import datetime, sys\n",
    "\n",
    "from IPython.display import display\n",
    "import ipywidgets as widgets"
   ]
  },
  {
   "cell_type": "code",
   "execution_count": 2,
   "id": "c70b8be3-dcd1-4acd-bf1c-dc3a9419fefd",
   "metadata": {},
   "outputs": [],
   "source": [
    "#  DUG API\n",
    "sys.path.insert(0,'..')\n",
    "from dug_api import Database\n",
    "from dug_api.CollectID import CollectID, FileType, ProductType, Sensor"
   ]
  },
  {
   "cell_type": "code",
   "execution_count": 3,
   "id": "772acf34-4fb8-44d2-8215-c5d818332270",
   "metadata": {},
   "outputs": [],
   "source": [
    "test_list = []"
   ]
  },
  {
   "cell_type": "markdown",
   "id": "acdd1b51-9d2c-4b53-a7c7-646bc1149fc3",
   "metadata": {},
   "source": [
    "## Landsat 7/8/9 Filename Tests\n"
   ]
  },
  {
   "cell_type": "markdown",
   "id": "46eb3dfb-7bfc-4284-a376-8c101674a49e",
   "metadata": {},
   "source": [
    "### Test 1 : Landsat 9, L1TP, Band 10"
   ]
  },
  {
   "cell_type": "code",
   "execution_count": 4,
   "id": "fc24d251-8bc1-4b8d-99e3-0f06cb0d0679",
   "metadata": {},
   "outputs": [],
   "source": [
    "path = 'collections/LC09_L1TP_034032_20230516_20230517_02/LC09_L1TP_034032_20230516_20230517_02_T1_B10.TIF'\n",
    "\n",
    "c = CollectID( path, True )\n",
    "\n",
    "assert( c.cid()              == 'LC09_L1TP_034032_20230516_20230517_02' )\n",
    "assert( c.sensor()           == Sensor.C )\n",
    "assert( c.satellite()        == 9 )\n",
    "assert( c.processing_level() == ProductType.L1TP )\n",
    "assert( c.wrs2_path()        == 34 )\n",
    "assert( c.wrs2_row()         == 32 )\n",
    "assert( c.ard_col() is None )\n",
    "assert( c.ard_row() is None )\n",
    "assert( c.acquisition_date() == datetime.date( year=2023, month=5, day=16 ) )\n",
    "assert( c.file_type()        == FileType.B10 )\n",
    "\n",
    "test_list.append( [True, 'Filename Test, Landsat 9, L1TP Band 10' ] )"
   ]
  },
  {
   "cell_type": "markdown",
   "id": "799bf9cd-044a-44e2-b42f-b5bc45e9210b",
   "metadata": {},
   "source": [
    "### Test 2 : Landsat 7, ARD, Surface Temp Band 6"
   ]
  },
  {
   "cell_type": "code",
   "execution_count": 5,
   "id": "4a5f798c-3d68-4be1-a8e5-7fe0a03254fa",
   "metadata": {},
   "outputs": [],
   "source": [
    "path = 'Imagery/Landsat/collections/LE07_CU_011009_20070206_20210429_02/LE07_CU_011009_20070206_20210429_02_ST_B6.TIF'"
   ]
  },
  {
   "cell_type": "code",
   "execution_count": 6,
   "id": "2635b792-deab-4810-9b6f-1be077e4cd75",
   "metadata": {},
   "outputs": [],
   "source": [
    "c = CollectID( path, True )\n",
    "\n",
    "assert( c.cid()              == 'LE07_CU_011009_20070206_20210429_02' )\n",
    "assert( c.sensor()           == Sensor.E )\n",
    "assert( c.satellite()        == 7 )\n",
    "assert( c.processing_level() == ProductType.ARD_CU )\n",
    "assert( c.wrs2_path() is None )\n",
    "assert( c.wrs2_row()  is None )\n",
    "assert( c.ard_col()          == 11 )\n",
    "assert( c.ard_row()          == 9 )\n",
    "assert( c.acquisition_date() == datetime.date( year=2007, month=2, day=6 ) )\n",
    "assert( c.file_type()        == FileType.ST_B6 )\n",
    "\n",
    "test_list.append( [True, 'Filename Test, Landsat 7, ARD Surface Temp Band 6' ] )"
   ]
  },
  {
   "cell_type": "markdown",
   "id": "48decd20-7cae-4cb9-8a78-1ae361f4cbb1",
   "metadata": {},
   "source": [
    "### Test 3 : Landsat 7, ARD, Brightness Temp Band 6"
   ]
  },
  {
   "cell_type": "code",
   "execution_count": 7,
   "id": "8c895005-e792-4fbd-a644-e276968b716c",
   "metadata": {},
   "outputs": [],
   "source": [
    "path = 'Landsat/collections/LE07_CU_011009_20070317_20210429_02/LE07_CU_011009_20070317_20210429_02_BT_B6.TIF'"
   ]
  },
  {
   "cell_type": "code",
   "execution_count": 8,
   "id": "6bcc4d01-7509-4c39-8ae7-5d8819e0cd91",
   "metadata": {},
   "outputs": [],
   "source": [
    "c = CollectID( path, True )\n",
    "\n",
    "assert( c.cid()              == 'LE07_CU_011009_20070317_20210429_02' )\n",
    "assert( c.sensor()           == Sensor.E )\n",
    "assert( c.satellite()        == 7 )\n",
    "assert( c.processing_level() == ProductType.ARD_CU )\n",
    "assert( c.wrs2_path() is None )\n",
    "assert( c.wrs2_row()  is None )\n",
    "assert( c.ard_col()          == 11 )\n",
    "assert( c.ard_row()          == 9 )\n",
    "assert( c.acquisition_date() == datetime.date( year=2007, month=3, day=17 ) )\n",
    "assert( c.file_type()        == FileType.BT_B6 )\n",
    "\n",
    "test_list.append( [True, 'Filename Test, Landsat 7, ARD Bright Temp Band 6' ] )"
   ]
  },
  {
   "cell_type": "markdown",
   "id": "587edea2-1b4c-485b-b3c3-8fa5c463088e",
   "metadata": {},
   "source": [
    "### Test 4 : Landsat 7, L1GT, Temperature Band 6, Lower"
   ]
  },
  {
   "cell_type": "code",
   "execution_count": 9,
   "id": "87301b98-a447-4c23-8a32-c81150d445ba",
   "metadata": {},
   "outputs": [],
   "source": [
    "path = 'Landsat/collections/LE07_L1GT_033033_20090822_20200911_02/LE07_L1GT_033033_20090822_20200911_02_T2_B6_VCID_1.TIF'"
   ]
  },
  {
   "cell_type": "code",
   "execution_count": 10,
   "id": "cd6116f4-a292-4a5b-a710-e2dfccf0a34f",
   "metadata": {},
   "outputs": [
    {
     "name": "stdout",
     "output_type": "stream",
     "text": [
      "LE07_L1GT_033033_20090822_20200911_02\n"
     ]
    }
   ],
   "source": [
    "c = CollectID( path, True )\n",
    "\n",
    "print( c.cid() )\n",
    "assert( c.cid()              == 'LE07_L1GT_033033_20090822_20200911_02' )\n",
    "assert( c.sensor()           == Sensor.E )\n",
    "assert( c.satellite()        == 7 )\n",
    "assert( c.processing_level() == ProductType.L1GT )\n",
    "assert( c.wrs2_path()        == 33 )\n",
    "assert( c.wrs2_row()         == 33 )\n",
    "assert( c.ard_col() is None )\n",
    "assert( c.ard_row() is None )\n",
    "assert( c.acquisition_date() == datetime.date( year=2009, month=8, day=22 ) )\n",
    "assert( c.file_type()        == FileType.B6 )\n",
    "\n",
    "test_list.append( [True, 'Filename Test, Landsat 7, L1GT Band 6, VCID 1' ] )"
   ]
  },
  {
   "cell_type": "markdown",
   "id": "35751a18-ec3d-4cac-9a32-a77a74245912",
   "metadata": {},
   "source": [
    "### Test 5 : Landsat 7, L1GT, Temperature Band 6, Upper"
   ]
  },
  {
   "cell_type": "code",
   "execution_count": 11,
   "id": "9a0591d8-488f-41df-8107-4cf2717c7111",
   "metadata": {},
   "outputs": [],
   "source": [
    "path = 'Landsat/collections/LE07_L1GT_033033_20090822_20200911_02/LE07_L1GT_033033_20090822_20200911_02_T2_B6_VCID_2.TIF'"
   ]
  },
  {
   "cell_type": "code",
   "execution_count": 12,
   "id": "2650c6fc-0382-4d73-979c-98ec01bfeb2a",
   "metadata": {},
   "outputs": [],
   "source": [
    "c = CollectID( path, True )\n",
    "\n",
    "assert( c.cid()              == 'LE07_L1GT_033033_20090822_20200911_02' )\n",
    "assert( c.sensor()           == Sensor.E )\n",
    "assert( c.satellite()        == 7 )\n",
    "assert( c.processing_level() == ProductType.L1GT )\n",
    "assert( c.wrs2_path()        == 33 )\n",
    "assert( c.wrs2_row()         == 33 )\n",
    "assert( c.ard_col() is None )\n",
    "assert( c.ard_row() is None )\n",
    "assert( c.acquisition_date() == datetime.date( year=2009, month=8, day=22 ) )\n",
    "assert( c.file_type()        == FileType.B10 )\n",
    "\n",
    "test_list.append( [True, 'Filename Test, Landsat 7, L1GT Band 6, VCID 2' ] )"
   ]
  },
  {
   "cell_type": "markdown",
   "id": "86f0ead2-57a9-4522-ba56-03ab572494b8",
   "metadata": {},
   "source": [
    "## Landsat 7/8/9 Directory CID Tests"
   ]
  },
  {
   "cell_type": "markdown",
   "id": "7539440c-b679-46bd-ac6a-fd8bd64592b7",
   "metadata": {},
   "source": [
    "### Test 1 : Landsat 7 ARD Directory"
   ]
  },
  {
   "cell_type": "code",
   "execution_count": 13,
   "id": "861a4dd0-6e3a-4975-94a0-404474fa68c7",
   "metadata": {},
   "outputs": [],
   "source": [
    "path = 'Landsat/collections/LE07_CU_011009_20111022_20210501_02'"
   ]
  },
  {
   "cell_type": "code",
   "execution_count": 14,
   "id": "35b9a58c-5d97-46be-bb49-ce70b6a51948",
   "metadata": {},
   "outputs": [],
   "source": [
    "c = CollectID( path, False )\n",
    "\n",
    "assert( c.cid()              == 'LE07_CU_011009_20111022_20210501_02' )\n",
    "assert( c.sensor()           == Sensor.E )\n",
    "assert( c.satellite()        == 7 )\n",
    "assert( c.processing_level() == ProductType.ARD_CU )\n",
    "assert( c.wrs2_path() is None )\n",
    "assert( c.wrs2_row()  is None )\n",
    "assert( c.ard_col()          == 11 )\n",
    "assert( c.ard_row()          == 9 )\n",
    "assert( c.acquisition_date() == datetime.date( year=2011, month=10, day=22 ) )\n",
    "assert( c.file_type()        == None )\n",
    "\n",
    "test_list.append( [True, 'Directory Test, Landsat 7 ARD' ] )"
   ]
  },
  {
   "cell_type": "markdown",
   "id": "b9abc334-9154-496e-82bc-2802425ca166",
   "metadata": {},
   "source": [
    "### Test 2 : Landsat 9 L1TP Directory"
   ]
  },
  {
   "cell_type": "code",
   "execution_count": 15,
   "id": "6a0ed05d-d5cc-4888-8283-de9446168265",
   "metadata": {},
   "outputs": [],
   "source": [
    "path = 'collections/LC09_L1TP_034032_20230516_20230517_02'"
   ]
  },
  {
   "cell_type": "code",
   "execution_count": 16,
   "id": "111866c4-d420-4727-8871-ae11d1ed228c",
   "metadata": {},
   "outputs": [],
   "source": [
    "c = CollectID( path, False )\n",
    "\n",
    "assert( c.cid()              == 'LC09_L1TP_034032_20230516_20230517_02' )\n",
    "assert( c.sensor()           == Sensor.C )\n",
    "assert( c.satellite()        == 9 )\n",
    "assert( c.processing_level() == ProductType.L1TP )\n",
    "assert( c.wrs2_path()        == 34 )\n",
    "assert( c.wrs2_row()         == 32 )\n",
    "assert( c.ard_col() is None )\n",
    "assert( c.ard_row() is None )\n",
    "assert( c.acquisition_date() == datetime.date( year=2023, month=5, day=16 ) )\n",
    "assert( c.file_type() is None )\n",
    "\n",
    "test_list.append( [True, 'Directory Test, Landsat 9 L1TP' ] )"
   ]
  },
  {
   "cell_type": "markdown",
   "id": "37e6059f-d401-4c5a-a13a-4ef9bc78a3ab",
   "metadata": {},
   "source": [
    "### Test 3 : Landsat 7 L1TP Directory"
   ]
  },
  {
   "cell_type": "code",
   "execution_count": 17,
   "id": "ebf880a9-74fa-46c5-a48a-f25f5eb727ce",
   "metadata": {},
   "outputs": [],
   "source": [
    "path = 'imagery/collections/LE07_L1TP_034032_20130723_20200907_02'"
   ]
  },
  {
   "cell_type": "code",
   "execution_count": 18,
   "id": "1ae6ba32-69ef-4402-b1ed-c9eb7408f10c",
   "metadata": {},
   "outputs": [],
   "source": [
    "c = CollectID( path, False )\n",
    "\n",
    "assert( c.cid()              == 'LE07_L1TP_034032_20130723_20200907_02' )\n",
    "assert( c.sensor()           == Sensor.E )\n",
    "assert( c.satellite()        == 7 )\n",
    "assert( c.processing_level() == ProductType.L1TP )\n",
    "assert( c.wrs2_path()        == 34 )\n",
    "assert( c.wrs2_row()         == 32 )\n",
    "assert( c.ard_col() is None )\n",
    "assert( c.ard_row() is None )\n",
    "assert( c.acquisition_date() == datetime.date( year=2013, month=7, day=23 ) )\n",
    "assert( c.file_type() is None )\n",
    "\n",
    "test_list.append( [True, 'Directory Test, Landsat 7 L1TP' ] )"
   ]
  },
  {
   "cell_type": "markdown",
   "id": "1b989f54-0fd7-48b2-b793-14d6f6f76ac7",
   "metadata": {},
   "source": [
    "### Test 4 : Landsat 8 ARD Directory"
   ]
  },
  {
   "cell_type": "code",
   "execution_count": 19,
   "id": "bd408e68-f17f-4286-9856-4eea577f65e2",
   "metadata": {},
   "outputs": [],
   "source": [
    "path = 'imagery/collections/LC08_CU_012009_20230830_20230909_02'"
   ]
  },
  {
   "cell_type": "code",
   "execution_count": 20,
   "id": "d111edb5-9f17-4869-99a6-8f47023c6f0e",
   "metadata": {},
   "outputs": [],
   "source": [
    "c = CollectID( path, False )\n",
    "\n",
    "assert( c.cid()              == 'LC08_CU_012009_20230830_20230909_02' )\n",
    "assert( c.sensor()           == Sensor.C )\n",
    "assert( c.satellite()        == 8 )\n",
    "assert( c.processing_level() == ProductType.ARD_CU )\n",
    "assert( c.wrs2_path() is None )\n",
    "assert( c.wrs2_row()  is None )\n",
    "assert( c.ard_col()          == 12 )\n",
    "assert( c.ard_row()          == 9 )\n",
    "assert( c.acquisition_date() == datetime.date( year=2023, month=8, day=30 ) )\n",
    "assert( c.file_type() is None )\n",
    "\n",
    "test_list.append( [True, 'Directory Test, Landsat 8 ARD' ] )"
   ]
  },
  {
   "cell_type": "markdown",
   "id": "622bac5d-8c25-4acf-96b8-4f4efeccc47f",
   "metadata": {},
   "source": [
    "## Creating Destination LS CID Folders from General \"Zip\" Folders"
   ]
  },
  {
   "cell_type": "markdown",
   "id": "a36590cf-ace5-49fb-b64f-2e38c7672e3e",
   "metadata": {},
   "source": [
    "### Test 1 : Landsat 7 Folder"
   ]
  },
  {
   "cell_type": "code",
   "execution_count": 21,
   "id": "2991de22-0250-48d0-943f-a947db087d32",
   "metadata": {},
   "outputs": [],
   "source": [
    "in_path = 'staging/LE07_CU_011009_20120812_20210501_02_BT'\n",
    "cid_folder = 'LE07_CU_011009_20120812_20210501_02'"
   ]
  },
  {
   "cell_type": "code",
   "execution_count": 22,
   "id": "bd81273f-5903-4b9a-886a-800839792153",
   "metadata": {},
   "outputs": [],
   "source": [
    "c = CollectID(in_path, False)\n",
    "\n",
    "assert( c.cid()              == 'LE07_CU_011009_20120812_20210501_02' )\n",
    "assert( c.sensor()           == Sensor.E )\n",
    "assert( c.satellite()        == 7 )\n",
    "assert( c.processing_level() == ProductType.ARD_CU )\n",
    "assert( c.wrs2_path() is None )\n",
    "assert( c.wrs2_row()  is None )\n",
    "assert( c.ard_col()          == 11 )\n",
    "assert( c.ard_row()          == 9 )\n",
    "assert( c.acquisition_date() == datetime.date( year=2012, month=8, day=12 ) )\n",
    "assert( c.file_type()        == None )\n",
    "\n",
    "assert( c.to_cid_folder() == cid_folder )\n",
    "\n",
    "test_list.append( [True, 'CID Folder Test, Landsat 7 ARD' ] )"
   ]
  },
  {
   "cell_type": "markdown",
   "id": "afa3f4b5-fb86-4700-8555-34c1cf975d3f",
   "metadata": {},
   "source": [
    "# Test Summary"
   ]
  },
  {
   "cell_type": "code",
   "execution_count": 41,
   "id": "4fd9c5a6-48e3-4450-84b3-d834639377b5",
   "metadata": {},
   "outputs": [],
   "source": [
    "wgt_list = []\n",
    "status = 'All Passing'\n",
    "num_fails = 0\n",
    "for test in test_list:\n",
    "    wgt_list.append( widgets.Valid( value = test[0],\n",
    "                                    description = test[1],\n",
    "                                    style = {'description_width': 'initial'},\n",
    "                                    layout = { 'width': 'max-content' } ) )"
   ]
  },
  {
   "cell_type": "code",
   "execution_count": 42,
   "id": "703e02e9-2447-4dc7-8cb0-93ea7d938d5c",
   "metadata": {},
   "outputs": [
    {
     "data": {
      "application/vnd.jupyter.widget-view+json": {
       "model_id": "30a4f127e6144688a3e96d3d2507cdb7",
       "version_major": 2,
       "version_minor": 0
      },
      "text/plain": [
       "VBox(children=(Valid(value=True, description='Filename Test, Landsat 9, L1TP Band 10', layout=Layout(width='ma…"
      ]
     },
     "execution_count": 42,
     "metadata": {},
     "output_type": "execute_result"
    }
   ],
   "source": [
    "widgets.VBox( wgt_list, layout=widgets.Layout(width='700px') )"
   ]
  },
  {
   "cell_type": "code",
   "execution_count": null,
   "id": "c4ee9083-12fd-4d2b-ab12-c6bfee33db08",
   "metadata": {},
   "outputs": [],
   "source": []
  }
 ],
 "metadata": {
  "kernelspec": {
   "display_name": "Python 3 (ipykernel)",
   "language": "python",
   "name": "python3"
  },
  "language_info": {
   "codemirror_mode": {
    "name": "ipython",
    "version": 3
   },
   "file_extension": ".py",
   "mimetype": "text/x-python",
   "name": "python",
   "nbconvert_exporter": "python",
   "pygments_lexer": "ipython3",
   "version": "3.11.6"
  }
 },
 "nbformat": 4,
 "nbformat_minor": 5
}
