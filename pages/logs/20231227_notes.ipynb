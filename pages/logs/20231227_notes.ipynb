{
 "cells": [
  {
   "cell_type": "markdown",
   "id": "f1cab83a-4c4a-4be8-b708-5869d2eadf2c",
   "metadata": {},
   "source": [
    "# December 27, 2023 - Notes\n",
    "\n",
    "Another day of major progress.   making solid headway on the Landsat and Planet integration. \n",
    "\n",
    "## Open Evapotranspiration\n",
    "\n",
    "After digging into the USGS Landsat ET data products, I realized they were not granular enough to help.  I then stumbled onto this site:  [OpenET](https://explore.etdata.org/custom#15/39.7302/-104.9827). \n",
    "\n",
    "They have a really solid API that allows you to fetch GeoTiffs. \n",
    "\n",
    "### Sample Fetch API for GeoTiff \"Stacks\"\n",
    "\n",
    "```bash\n",
    "curl -X 'POST' \\\n",
    "  'https://openet-api.org/raster/geotiff/stack' \\\n",
    "  -H 'accept: application/json' \\\n",
    "  -H 'Authorization: wisr6AK46hdHCuMq0N1EtqxKAH6IvwFpfKgKhrnIyTaVs5ETplvnJLfLDPJd' \\\n",
    "  -H 'Content-Type: application/json' \\\n",
    "  -d '{\n",
    "  \"date_range\": [\n",
    "    \"2023-05-12\",\n",
    "    \"2023-05-20\"\n",
    "  ],\n",
    "  \"geometry\": [\n",
    "    -105.0949820,\n",
    "    39.8051355,\n",
    "    -105.0949820,\n",
    "    39.7939208,\n",
    "    -105.1130,\n",
    "    39.7939208,\n",
    "    -105.1130,\n",
    "    39.8051355\n",
    "  ],\n",
    "  \"interval\": \"daily\",\n",
    "  \"model\": \"Ensemble\",\n",
    "  \"reference_et\": \"gridMET\",\n",
    "  \"units\": \"mm\",\n",
    "  \"variable\": \"ET\"\n",
    "}'\n",
    "```\n"
   ]
  }
 ],
 "metadata": {
  "kernelspec": {
   "display_name": "Python 3 (ipykernel)",
   "language": "python",
   "name": "python3"
  },
  "language_info": {
   "codemirror_mode": {
    "name": "ipython",
    "version": 3
   },
   "file_extension": ".py",
   "mimetype": "text/x-python",
   "name": "python",
   "nbconvert_exporter": "python",
   "pygments_lexer": "ipython3",
   "version": "3.11.6"
  }
 },
 "nbformat": 4,
 "nbformat_minor": 5
}
