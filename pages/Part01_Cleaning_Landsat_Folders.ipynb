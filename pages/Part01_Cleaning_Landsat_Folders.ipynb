{
 "cells": [
  {
   "cell_type": "markdown",
   "id": "2b45a114-67cc-4561-a29a-304be33dce8b",
   "metadata": {},
   "source": [
    "#  Part 1 - Cleaning Up Landsat Folders\n",
    "\n",
    "We want to reorganize the chaotic landsat folders into something more sane.  For this notebook, we check a staging area and move data into a collection folder. \n",
    "\n",
    "The issue is that a single Collection ID may have 4+ different product types.  There is the raw input files, Surface Temperature, Surface Reflectance, TOA products, and Quality. "
   ]
  },
  {
   "cell_type": "code",
   "execution_count": 1,
   "id": "5e300614-127d-4b49-a4c8-91c602fc722f",
   "metadata": {},
   "outputs": [],
   "source": [
    "## Step 1 - Import Required Libraries"
   ]
  },
  {
   "cell_type": "code",
   "execution_count": 2,
   "id": "6129bdf2-9cc6-4763-b843-97b9ea47b9e7",
   "metadata": {},
   "outputs": [],
   "source": [
    "import configparser, datetime, glob, logging, os, sys, time\n",
    "\n",
    "import pandas as pd\n",
    "\n",
    "from tqdm import notebook as tqdm"
   ]
  },
  {
   "cell_type": "code",
   "execution_count": 3,
   "id": "4673ba33-1841-40d3-af55-c308e8ddbbd8",
   "metadata": {},
   "outputs": [],
   "source": [
    "#  DUG API\n",
    "sys.path.insert(0,'..')\n",
    "from dug_api.CollectID import CollectID, FileType\n",
    "from dug_api.config import Configuration"
   ]
  },
  {
   "cell_type": "markdown",
   "id": "e2ba3089-af27-41e0-a081-26a212853e16",
   "metadata": {},
   "source": [
    "Configure the logger.  "
   ]
  },
  {
   "cell_type": "code",
   "execution_count": 4,
   "id": "9e77a307-2b55-428d-8384-752e6db7a54f",
   "metadata": {},
   "outputs": [
    {
     "name": "stderr",
     "output_type": "stream",
     "text": [
      "INFO:Notebook:This Notebook run at 2024:01:05 15:01:34\n"
     ]
    }
   ],
   "source": [
    "logging.basicConfig(level=logging.DEBUG)\n",
    "logger = logging.getLogger('Notebook')\n",
    "logger.info( f'This Notebook run at {datetime.datetime.now().strftime(\"%Y:%m:%d %H:%M:%S\")}' )"
   ]
  },
  {
   "cell_type": "markdown",
   "id": "e0673d05-ff25-4405-8455-265dee961c44",
   "metadata": {},
   "source": [
    "## Step 2 - Loading Configuration Data"
   ]
  },
  {
   "cell_type": "code",
   "execution_count": 5,
   "id": "01c2bd63-a83f-4441-b0d5-4dcba1408d4d",
   "metadata": {},
   "outputs": [
    {
     "name": "stderr",
     "output_type": "stream",
     "text": [
      "DEBUG:root:No Landsat Collection List at /Volumes/data/imagery/Landsat/collections.xlsx\n",
      "INFO:Notebook:Is Configuration Valid:  True\n"
     ]
    }
   ],
   "source": [
    "config = Configuration( '../data/options.cfg' )\n",
    "logger.info( f'Is Configuration Valid:  {config.is_valid()}' )"
   ]
  },
  {
   "cell_type": "code",
   "execution_count": 6,
   "id": "c51ab2c2-67db-410e-9ec1-340c83bb876c",
   "metadata": {},
   "outputs": [],
   "source": [
    "staging_path = config.config['general']['image_staging_path']\n",
    "collect_path = config.config['general']['image_collection_path']"
   ]
  },
  {
   "cell_type": "markdown",
   "id": "a0c671ad-7134-44a8-ab66-e1da3138385e",
   "metadata": {},
   "source": [
    "## Step 3 - Look at Staging Folders"
   ]
  },
  {
   "cell_type": "code",
   "execution_count": 7,
   "id": "ff9ab9e3-f0a6-4e04-90df-95a36ad24197",
   "metadata": {},
   "outputs": [],
   "source": [
    "invalid_folders = []\n",
    "valid_folders = []\n",
    "\n",
    "paths = glob.glob( f'{staging_path}/*' )\n",
    "\n",
    "for path in paths:\n",
    "    \n",
    "    #  Check if directory has a Landsat CID\n",
    "    c = CollectID.from_pathname( path )\n",
    "\n",
    "    #  Capture invalid folders for double-checking\n",
    "    if c is None:\n",
    "        invalid_folders.append( path )\n",
    "\n",
    "    else:\n",
    "        # Create a folder in the destination\n",
    "        valid_folders.append( { 'src': path, 'dest': c.to_cid_folder() } )"
   ]
  },
  {
   "cell_type": "markdown",
   "id": "97fc5e8d-9e3b-45df-a49d-a9340579b44f",
   "metadata": {},
   "source": [
    "All valid CID folders need to be created, with the collection category stripped out, to the destination folder."
   ]
  },
  {
   "cell_type": "code",
   "execution_count": 8,
   "id": "91b03f24-88c7-4470-a9d6-b94a51667607",
   "metadata": {},
   "outputs": [],
   "source": [
    "already_exists = []\n",
    "didnt_exist = []\n",
    "\n",
    "for entry in valid_folders:\n",
    "\n",
    "    pname = os.path.join( collect_path, entry['dest'] )\n",
    "    \n",
    "    if os.path.exists( pname ):\n",
    "        already_exists.append( pname )\n",
    "    else:\n",
    "        didnt_exist.append( pname )\n",
    "        os.makedirs( pname )"
   ]
  },
  {
   "cell_type": "markdown",
   "id": "6494a1c8-aa58-47b2-8265-5230ea39e79d",
   "metadata": {},
   "source": [
    "Here is what we are going to copy over"
   ]
  },
  {
   "cell_type": "code",
   "execution_count": 9,
   "id": "669315ea-e162-438c-b855-2ec6eb8a2ffd",
   "metadata": {},
   "outputs": [],
   "source": [
    "#for f in didnt_exist:\n",
    "#    print(f)"
   ]
  },
  {
   "cell_type": "markdown",
   "id": "495931eb-a41c-4a83-a314-3103af7bbc47",
   "metadata": {},
   "source": [
    "Here is what already existed"
   ]
  },
  {
   "cell_type": "code",
   "execution_count": 10,
   "id": "8da10195-4b1e-4a80-a8aa-84d09b9735e6",
   "metadata": {},
   "outputs": [],
   "source": [
    "#for f in already_exists:\n",
    "#    print(f)"
   ]
  },
  {
   "cell_type": "markdown",
   "id": "fba510b0-6023-44c1-9e0e-64aacc9c9957",
   "metadata": {},
   "source": [
    "Now we copy everything"
   ]
  },
  {
   "cell_type": "code",
   "execution_count": 11,
   "id": "9f2860ee-4c8b-4302-bdd5-21c44875d6aa",
   "metadata": {
    "scrolled": true
   },
   "outputs": [
    {
     "data": {
      "application/vnd.jupyter.widget-view+json": {
       "model_id": "4640bb0fd29c436b84a748bf15ac570c",
       "version_major": 2,
       "version_minor": 0
      },
      "text/plain": [
       "0it [00:00, ?it/s]"
      ]
     },
     "metadata": {},
     "output_type": "display_data"
    }
   ],
   "source": [
    "pbar_dirs = tqdm.tqdm( total = len(valid_folders) )\n",
    "\n",
    "for entry in valid_folders:\n",
    "\n",
    "    valid_path = f'{entry[\"src\"]}/*'\n",
    "    paths = glob.glob( valid_path )\n",
    "\n",
    "    cid = os.path.basename( entry['dest'] )\n",
    "\n",
    "    #  For each object, check if it's destination path already exists\n",
    "    for p in paths:\n",
    "\n",
    "        dst_path = os.path.join( collect_path, cid, os.path.basename( p ) )\n",
    "\n",
    "        if os.path.exists( dst_path ):\n",
    "            logging.error( f'destination path exists ({dst_path}) for input ({p}).' )\n",
    "        else:\n",
    "            cmd = f'mv {p} {dst_path}'\n",
    "            logging.debug( cmd )\n",
    "            os.system( cmd )\n",
    "\n",
    "    pbar_dirs.update(1)\n",
    "    "
   ]
  }
 ],
 "metadata": {
  "kernelspec": {
   "display_name": "Python 3 (ipykernel)",
   "language": "python",
   "name": "python3"
  },
  "language_info": {
   "codemirror_mode": {
    "name": "ipython",
    "version": 3
   },
   "file_extension": ".py",
   "mimetype": "text/x-python",
   "name": "python",
   "nbconvert_exporter": "python",
   "pygments_lexer": "ipython3",
   "version": "3.11.6"
  }
 },
 "nbformat": 4,
 "nbformat_minor": 5
}
